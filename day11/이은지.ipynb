{
 "cells": [
  {
   "cell_type": "markdown",
   "metadata": {},
   "source": [
    "## 1번 문제"
   ]
  },
  {
   "cell_type": "code",
   "execution_count": 99,
   "metadata": {},
   "outputs": [
    {
     "name": "stdout",
     "output_type": "stream",
     "text": [
      "여성\n"
     ]
    }
   ],
   "source": [
    "res = input('주민번호를 입력해주세요 >> ')\n",
    "\n",
    "if int(res[7]) in (1, 3, 5):\n",
    "    print('남성')\n",
    "elif int(res[7]) in (2, 4, 6):\n",
    "    print('여성')\n",
    "else:\n",
    "    print('다시 입력하세요.')"
   ]
  },
  {
   "cell_type": "markdown",
   "metadata": {},
   "source": [
    "## 2번 문제"
   ]
  },
  {
   "cell_type": "code",
   "execution_count": 97,
   "metadata": {},
   "outputs": [
    {
     "name": "stdout",
     "output_type": "stream",
     "text": [
      "오늘은 목요일입니다.\n"
     ]
    }
   ],
   "source": [
    "res = input('요일을 입력하세요 >> ')\n",
    "\n",
    "res = res.replace('MON', '월요일').replace('TUE', '화요일').replace('WED', '수요일').replace('TUR', '목요일').replace('FRI', '금요일').replace('SAT', '토요일').replace('SUN','일요일')\n",
    "print(f'오늘은 {res}입니다.')\n"
   ]
  },
  {
   "cell_type": "markdown",
   "metadata": {},
   "source": [
    "## 3번 문제"
   ]
  },
  {
   "cell_type": "code",
   "execution_count": 65,
   "metadata": {},
   "outputs": [
    {
     "name": "stdout",
     "output_type": "stream",
     "text": [
      "애들은 가라..\n"
     ]
    }
   ],
   "source": [
    "res = int(input('나이를 입력하세요 >> '))\n",
    "if res < 19:\n",
    "    print('애들은 가라..')\n",
    "else:\n",
    "    print('어서옵쇼, 손님')"
   ]
  },
  {
   "cell_type": "markdown",
   "metadata": {},
   "source": [
    "## 4번 문제"
   ]
  },
  {
   "cell_type": "code",
   "execution_count": 42,
   "metadata": {},
   "outputs": [],
   "source": [
    "with open('result.txt', 'w') as file:\n",
    "    i = 1\n",
    "    while i <= 1000:\n",
    "        if i % 3 == 0 or i % 5 == 0:\n",
    "            file.write(str(i) + '\\n')\n",
    "        i += 1"
   ]
  },
  {
   "cell_type": "markdown",
   "metadata": {},
   "source": [
    "## 5번 문제"
   ]
  },
  {
   "cell_type": "code",
   "execution_count": 43,
   "metadata": {},
   "outputs": [],
   "source": [
    "import datetime"
   ]
  },
  {
   "cell_type": "code",
   "execution_count": 96,
   "metadata": {},
   "outputs": [
    {
     "name": "stdout",
     "output_type": "stream",
     "text": [
      "2024\\03%07 10**36//12\n"
     ]
    }
   ],
   "source": [
    "curr = datetime.datetime.now()\n",
    "\n",
    "res = curr.strftime('%Y\\\\%m') + '%' + curr.strftime('%d %H**%M//%S')\n",
    "print(res)\n"
   ]
  }
 ],
 "metadata": {
  "kernelspec": {
   "display_name": "Python 3",
   "language": "python",
   "name": "python3"
  },
  "language_info": {
   "codemirror_mode": {
    "name": "ipython",
    "version": 3
   },
   "file_extension": ".py",
   "mimetype": "text/x-python",
   "name": "python",
   "nbconvert_exporter": "python",
   "pygments_lexer": "ipython3",
   "version": "3.12.2"
  }
 },
 "nbformat": 4,
 "nbformat_minor": 2
}
